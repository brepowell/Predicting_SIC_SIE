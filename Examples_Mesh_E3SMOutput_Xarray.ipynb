{
 "cells": [
  {
   "cell_type": "code",
   "execution_count": 3,
   "id": "d0bb34dd-af6f-493d-91da-cccde0ddcc0b",
   "metadata": {},
   "outputs": [
    {
     "name": "stdout",
     "output_type": "stream",
     "text": [
      "Xarray version 2025.6.1\n"
     ]
    }
   ],
   "source": [
    "import xarray as xr\n",
    "print('Xarray version', xr.__version__)"
   ]
  },
  {
   "cell_type": "code",
   "execution_count": 11,
   "id": "b2d0a362-14f3-41ea-acbc-ac3752309be9",
   "metadata": {},
   "outputs": [],
   "source": [
    "from perlmutterpath import * # has the path to the data on Perlmutter\n",
    "ds_fluxes = xr.open_dataset(full_data_fluxes_mean_sample, decode_times=True)"
   ]
  },
  {
   "cell_type": "code",
   "execution_count": 12,
   "id": "8fc2af09-41fb-43e5-85d8-c6539120296a",
   "metadata": {},
   "outputs": [
    {
     "name": "stdout",
     "output_type": "stream",
     "text": [
      "<xarray.Dataset> Size: 48MB\n",
      "Dimensions:                                           (nCells: 465044,\n",
      "                                                       nVertices: 942873)\n",
      "Dimensions without coordinates: nCells, nVertices\n",
      "Data variables: (12/24)\n",
      "    timeMonthly_avg_absorbedShortwaveFluxInitialArea  (nCells) float32 2MB ...\n",
      "    timeMonthly_avg_basalIceMelt                      (nCells) float32 2MB ...\n",
      "    timeMonthly_avg_congelation                       (nCells) float32 2MB ...\n",
      "    timeMonthly_avg_divergence                        (nCells) float32 2MB ...\n",
      "    timeMonthly_avg_frazilFormation                   (nCells) float32 2MB ...\n",
      "    timeMonthly_avg_freezingMeltingPotential          (nCells) float32 2MB ...\n",
      "    ...                                                ...\n",
      "    timeMonthly_avg_snowMelt                          (nCells) float32 2MB ...\n",
      "    timeMonthly_avg_snowVolumeCell                    (nCells) float32 2MB ...\n",
      "    timeMonthly_avg_snowiceFormation                  (nCells) float32 2MB ...\n",
      "    timeMonthly_avg_surfaceIceMelt                    (nCells) float32 2MB ...\n",
      "    timeMonthly_avg_uVelocityGeo                      (nVertices) float32 4MB ...\n",
      "    timeMonthly_avg_vVelocityGeo                      (nVertices) float32 4MB ...\n",
      "Attributes:\n",
      "    title:        Mean years 2000 to 2020\n",
      "    source:       pn1841748:/Volumes/CICESatArray/MODEL/E3SM/v3/v3.LR.histori...\n",
      "    Conventions:  CF-1.4\n",
      "    history:      03-Dec-2024 20:52:11: File created by Andrew Roberts\n",
      "    institution:  Los Alamos National Laboratory\n"
     ]
    }
   ],
   "source": [
    "print(ds_fluxes)"
   ]
  },
  {
   "cell_type": "code",
   "execution_count": 13,
   "id": "4e6eeb58-8ebd-49c2-a8eb-36ef74c968e2",
   "metadata": {},
   "outputs": [
    {
     "data": {
      "text/plain": [
       "Data variables:\n",
       "    timeMonthly_avg_absorbedShortwaveFluxInitialArea  (nCells) float32 2MB ...\n",
       "    timeMonthly_avg_basalIceMelt                      (nCells) float32 2MB ...\n",
       "    timeMonthly_avg_congelation                       (nCells) float32 2MB ...\n",
       "    timeMonthly_avg_divergence                        (nCells) float32 2MB ...\n",
       "    timeMonthly_avg_frazilFormation                   (nCells) float32 2MB ...\n",
       "    timeMonthly_avg_freezingMeltingPotential          (nCells) float32 2MB ...\n",
       "    timeMonthly_avg_iceAreaCell                       (nCells) float32 2MB ...\n",
       "    timeMonthly_avg_iceVolumeCell                     (nCells) float32 2MB ...\n",
       "    timeMonthly_avg_latentHeatFluxInitialArea         (nCells) float32 2MB ...\n",
       "    timeMonthly_avg_lateralIceMelt                    (nCells) float32 2MB ...\n",
       "    timeMonthly_avg_longwaveDown                      (nCells) float32 2MB ...\n",
       "    timeMonthly_avg_longwaveUpInitialArea             (nCells) float32 2MB ...\n",
       "    timeMonthly_avg_oceanHeatFlux                     (nCells) float32 2MB ...\n",
       "    timeMonthly_avg_seaSurfaceSalinity                (nCells) float32 2MB ...\n",
       "    timeMonthly_avg_seaSurfaceTemperature             (nCells) float32 2MB ...\n",
       "    timeMonthly_avg_sensibleHeatFluxInitialArea       (nCells) float32 2MB ...\n",
       "    timeMonthly_avg_shear                             (nCells) float32 2MB ...\n",
       "    timeMonthly_avg_shortwaveDown                     (nCells) float32 2MB ...\n",
       "    timeMonthly_avg_snowMelt                          (nCells) float32 2MB ...\n",
       "    timeMonthly_avg_snowVolumeCell                    (nCells) float32 2MB ...\n",
       "    timeMonthly_avg_snowiceFormation                  (nCells) float32 2MB ...\n",
       "    timeMonthly_avg_surfaceIceMelt                    (nCells) float32 2MB ...\n",
       "    timeMonthly_avg_uVelocityGeo                      (nVertices) float32 4MB ...\n",
       "    timeMonthly_avg_vVelocityGeo                      (nVertices) float32 4MB ..."
      ]
     },
     "execution_count": 13,
     "metadata": {},
     "output_type": "execute_result"
    }
   ],
   "source": [
    "ds_fluxes.data_vars"
   ]
  },
  {
   "cell_type": "code",
   "execution_count": 14,
   "id": "8fd75f14-15d6-4f68-9a3a-c8b070de0d8d",
   "metadata": {},
   "outputs": [],
   "source": [
    "ds_fluxes.close()"
   ]
  },
  {
   "cell_type": "markdown",
   "id": "076eb313-3414-4edd-a07e-b88e92be77c0",
   "metadata": {},
   "source": [
    "# Example of Ocean Heat"
   ]
  },
  {
   "cell_type": "code",
   "execution_count": 19,
   "id": "a335f364-ad97-4065-8dff-eac891a64d22",
   "metadata": {},
   "outputs": [],
   "source": [
    "from perlmutterpath import * # has the path to the data on Perlmutter\n",
    "ds_ocean_heat = xr.open_dataset(full_data_ocean_heat_sample, decode_times=True)"
   ]
  },
  {
   "cell_type": "code",
   "execution_count": 20,
   "id": "2bedb91f-1e31-4c25-bb65-7c2951216f61",
   "metadata": {},
   "outputs": [
    {
     "name": "stdout",
     "output_type": "stream",
     "text": [
      "<xarray.Dataset> Size: 7MB\n",
      "Dimensions:                      (Time: 1, nCells: 465044)\n",
      "Dimensions without coordinates: Time, nCells\n",
      "Data variables:\n",
      "    xtime                        (Time) |S64 64B ...\n",
      "    oceanHeatContentSfcToBot     (Time, nCells) float32 2MB ...\n",
      "    oceanHeatContentSfcTo700m    (Time, nCells) float32 2MB ...\n",
      "    oceanHeatContent700mTo2000m  (Time, nCells) float32 2MB ...\n",
      "    oceanHeatContent2000mToBot   (Time, nCells) float32 2MB ...\n",
      "Attributes: (12/816)\n",
      "    title:                                                        MPAS-Ocean ...\n",
      "    source:                                                       MPAS Ocean\n",
      "    source_id:                                                    399d430113\n",
      "    product:                                                      model-output\n",
      "    realm:                                                        ocean\n",
      "    case:                                                         v3.LR.histo...\n",
      "    ...                                                           ...\n",
      "    config_AM_conservationCheck_output_stream:                    conservatio...\n",
      "    config_AM_conservationCheck_compute_on_startup:               YES\n",
      "    config_AM_conservationCheck_write_on_startup:                 YES\n",
      "    config_AM_conservationCheck_write_to_logfile:                 YES\n",
      "    config_AM_conservationCheck_restart_stream:                   conservatio...\n",
      "    file_id:                                                      kpxgewb12k\n"
     ]
    }
   ],
   "source": [
    "print(ds_ocean_heat)"
   ]
  },
  {
   "cell_type": "code",
   "execution_count": 21,
   "id": "c94eb2f9-ebdf-4415-b641-10e9ccddaf54",
   "metadata": {},
   "outputs": [
    {
     "data": {
      "text/plain": [
       "Data variables:\n",
       "    xtime                        (Time) |S64 64B ...\n",
       "    oceanHeatContentSfcToBot     (Time, nCells) float32 2MB ...\n",
       "    oceanHeatContentSfcTo700m    (Time, nCells) float32 2MB ...\n",
       "    oceanHeatContent700mTo2000m  (Time, nCells) float32 2MB ...\n",
       "    oceanHeatContent2000mToBot   (Time, nCells) float32 2MB ..."
      ]
     },
     "execution_count": 21,
     "metadata": {},
     "output_type": "execute_result"
    }
   ],
   "source": [
    "ds_ocean_heat.data_vars"
   ]
  },
  {
   "cell_type": "code",
   "execution_count": 27,
   "id": "34311b6e-c423-4f25-b9a7-a68ab6616388",
   "metadata": {},
   "outputs": [
    {
     "name": "stdout",
     "output_type": "stream",
     "text": [
      "[b'1981-07-01_00:00:00']\n"
     ]
    }
   ],
   "source": [
    "print(ds_ocean_heat[\"xtime\"].values)"
   ]
  },
  {
   "cell_type": "code",
   "execution_count": 22,
   "id": "1a2cb8a3-a1cd-4ff4-945b-d5b464464a14",
   "metadata": {},
   "outputs": [],
   "source": [
    "ds_ocean_heat.close()"
   ]
  },
  {
   "cell_type": "markdown",
   "id": "fa25dcbb-a726-4ce7-92e1-c7acfb819b26",
   "metadata": {},
   "source": [
    "# Example of a Regional Statistics File\n",
    "There is one of these files per month between 1850 and 2024"
   ]
  },
  {
   "cell_type": "code",
   "execution_count": 32,
   "id": "8be4c839-0e6e-4ed9-9ae7-b9120a0239a8",
   "metadata": {},
   "outputs": [],
   "source": [
    "from perlmutterpath import * # has the path to the data on Perlmutter\n",
    "ds_regional_stats = xr.open_dataset(full_data_regional_stats_sample, decode_timedelta=True)"
   ]
  },
  {
   "cell_type": "code",
   "execution_count": 24,
   "id": "16bb3d72-ebd9-4d28-98b6-9ce804da08bc",
   "metadata": {
    "scrolled": true
   },
   "outputs": [
    {
     "name": "stdout",
     "output_type": "stream",
     "text": [
      "<xarray.Dataset> Size: 9kB\n",
      "Dimensions:              (Time: 31, nRegions: 3)\n",
      "Dimensions without coordinates: Time, nRegions\n",
      "Data variables:\n",
      "    xtime                (Time) |S64 2kB ...\n",
      "    daysSinceStartOfSim  (Time) timedelta64[ns] 248B ...\n",
      "    totalIceArea         (Time, nRegions) float64 744B ...\n",
      "    totalIceExtent       (Time, nRegions) float64 744B ...\n",
      "    totalIceVolume       (Time, nRegions) float64 744B ...\n",
      "    totalSnowVolume      (Time, nRegions) float64 744B ...\n",
      "    totalKineticEnergy   (Time, nRegions) float64 744B ...\n",
      "    rmsIceSpeed          (Time, nRegions) float64 744B ...\n",
      "    averageAlbedo        (Time, nRegions) float64 744B ...\n",
      "    maximumIceVolume     (Time, nRegions) float64 744B ...\n",
      "    maximumIcePressure   (Time, nRegions) float64 744B ...\n",
      "Attributes: (12/490)\n",
      "    case:                                                         v3.LR.histo...\n",
      "    source_id:                                                    399d430113\n",
      "    realm:                                                        seaIce\n",
      "    product:                                                      model-output\n",
      "    title:                                                        MPAS-Seaice...\n",
      "    source:                                                       E3SM Sea Ic...\n",
      "    ...                                                           ...\n",
      "    config_AM_timeSeriesStatsCustom_reference_times:              initial_time\n",
      "    config_AM_timeSeriesStatsCustom_duration_intervals:           repeat_inte...\n",
      "    config_AM_timeSeriesStatsCustom_repeat_intervals:             reset_interval\n",
      "    config_AM_timeSeriesStatsCustom_reset_intervals:              00-00-07_00...\n",
      "    config_AM_timeSeriesStatsCustom_backward_output_offset:       00-00-01_00...\n",
      "    file_id:                                                      ji7t51rv28\n"
     ]
    }
   ],
   "source": [
    "print(ds_regional_stats)"
   ]
  },
  {
   "cell_type": "code",
   "execution_count": 25,
   "id": "d7a153cf-108d-4d57-affd-de3337ec08a5",
   "metadata": {
    "scrolled": true
   },
   "outputs": [
    {
     "data": {
      "text/plain": [
       "Data variables:\n",
       "    xtime                (Time) |S64 2kB ...\n",
       "    daysSinceStartOfSim  (Time) timedelta64[ns] 248B ...\n",
       "    totalIceArea         (Time, nRegions) float64 744B ...\n",
       "    totalIceExtent       (Time, nRegions) float64 744B ...\n",
       "    totalIceVolume       (Time, nRegions) float64 744B ...\n",
       "    totalSnowVolume      (Time, nRegions) float64 744B ...\n",
       "    totalKineticEnergy   (Time, nRegions) float64 744B ...\n",
       "    rmsIceSpeed          (Time, nRegions) float64 744B ...\n",
       "    averageAlbedo        (Time, nRegions) float64 744B ...\n",
       "    maximumIceVolume     (Time, nRegions) float64 744B ...\n",
       "    maximumIcePressure   (Time, nRegions) float64 744B ..."
      ]
     },
     "execution_count": 25,
     "metadata": {},
     "output_type": "execute_result"
    }
   ],
   "source": [
    "ds_regional_stats.data_vars"
   ]
  },
  {
   "cell_type": "code",
   "execution_count": 29,
   "id": "9009ce71-d785-4767-8173-d0ca42210b2e",
   "metadata": {},
   "outputs": [
    {
     "name": "stdout",
     "output_type": "stream",
     "text": [
      "[b'1950-03-01_00:00:00' b'1950-03-02_00:00:00' b'1950-03-03_00:00:00'\n",
      " b'1950-03-04_00:00:00' b'1950-03-05_00:00:00' b'1950-03-06_00:00:00'\n",
      " b'1950-03-07_00:00:00' b'1950-03-08_00:00:00' b'1950-03-09_00:00:00'\n",
      " b'1950-03-10_00:00:00' b'1950-03-11_00:00:00' b'1950-03-12_00:00:00'\n",
      " b'1950-03-13_00:00:00' b'1950-03-14_00:00:00' b'1950-03-15_00:00:00'\n",
      " b'1950-03-16_00:00:00' b'1950-03-17_00:00:00' b'1950-03-18_00:00:00'\n",
      " b'1950-03-19_00:00:00' b'1950-03-20_00:00:00' b'1950-03-21_00:00:00'\n",
      " b'1950-03-22_00:00:00' b'1950-03-23_00:00:00' b'1950-03-24_00:00:00'\n",
      " b'1950-03-25_00:00:00' b'1950-03-26_00:00:00' b'1950-03-27_00:00:00'\n",
      " b'1950-03-28_00:00:00' b'1950-03-29_00:00:00' b'1950-03-30_00:00:00'\n",
      " b'1950-03-31_00:00:00']\n"
     ]
    }
   ],
   "source": [
    "print(ds_regional_stats[\"xtime\"].values)"
   ]
  },
  {
   "cell_type": "code",
   "execution_count": 36,
   "id": "f9b97ed4-573a-4240-931a-61b69fa43b32",
   "metadata": {},
   "outputs": [
    {
     "name": "stdout",
     "output_type": "stream",
     "text": [
      "Ice Area [18025780.03375199 15845921.9470876   2179858.08666439]\n",
      "Ice Extent [19881354.41282971 16587617.80059649  3293736.61223322]\n",
      "{'units': 'km2', 'long_name': 'Total sea-ice area by region'}\n",
      "{'units': 'km2', 'long_name': 'Total sea-ice extent by region'}\n",
      "{'units': 'km3', 'long_name': 'Total sea-ice volume by region'}\n",
      "{'units': 'km3', 'long_name': 'Total snow volume by region'}\n"
     ]
    }
   ],
   "source": [
    "print(\"Ice Area\", ds_regional_stats[\"totalIceArea\"].values[0])\n",
    "print(\"Ice Extent\", ds_regional_stats[\"totalIceExtent\"].values[0])\n",
    "\n",
    "print(ds_regional_stats['totalIceArea'].attrs)\n",
    "print(ds_regional_stats['totalIceExtent'].attrs)\n",
    "print(ds_regional_stats['totalIceVolume'].attrs)\n",
    "print(ds_regional_stats['totalSnowVolume'].attrs)"
   ]
  },
  {
   "cell_type": "code",
   "execution_count": 39,
   "id": "feee5b62-8622-4b0a-8bea-ebbccc636eeb",
   "metadata": {},
   "outputs": [
    {
     "name": "stdout",
     "output_type": "stream",
     "text": [
      "18025780.03375199\n"
     ]
    }
   ],
   "source": [
    "# What are the 3 regions?\n",
    "world = 15845921.9470876 + 2179858.08666439\n",
    "print(world) # This confirms that the first value is for the globe, while the 2nd and 3rd are hemispheres\n",
    "\n",
    "# 3 regions: global, northern hemisphere and southern hemisphere.\n",
    "# https://github.com/E3SM-Project/E3SM/blob/master/components/mpas-seaice/src/analysis_members/mpas_seaice_regional_statistics.F"
   ]
  },
  {
   "cell_type": "code",
   "execution_count": 26,
   "id": "30e4a58c-4859-4ea4-98ce-ad97a7423367",
   "metadata": {},
   "outputs": [],
   "source": [
    "ds_regional_stats.close()"
   ]
  },
  {
   "cell_type": "markdown",
   "id": "5f3c1d58-83e0-444d-8f87-016e0d9ef5f9",
   "metadata": {},
   "source": [
    "# Example of a Monthly netCDF file with xarray"
   ]
  },
  {
   "cell_type": "code",
   "execution_count": 4,
   "id": "e16f6ba4-c8e0-4110-8fb3-552523746b89",
   "metadata": {},
   "outputs": [],
   "source": [
    "from perlmutterpath import * # has the path to the data on Perlmutter\n",
    "ds_monthly = xr.open_dataset(full_data_dir_monthly_sample, decode_timedelta=True)"
   ]
  },
  {
   "cell_type": "code",
   "execution_count": 10,
   "id": "97c2086f-6bfa-4de9-a3c4-0bb3b71975ee",
   "metadata": {},
   "outputs": [
    {
     "name": "stdout",
     "output_type": "stream",
     "text": [
      "<xarray.Dataset> Size: 199MB\n",
      "Dimensions:                                           (Time: 1, nCells: 465044,\n",
      "                                                       nCategories: 5, ONE: 1,\n",
      "                                                       nVertices: 942873,\n",
      "                                                       maxEdges: 6,\n",
      "                                                       nSnowLayers: 5)\n",
      "Dimensions without coordinates: Time, nCells, nCategories, ONE, nVertices,\n",
      "                                maxEdges, nSnowLayers\n",
      "Data variables: (12/67)\n",
      "    timeMonthly_counter                               (Time) int32 4B ...\n",
      "    xtime_startMonthly                                (Time) |S64 64B b'2024-...\n",
      "    xtime_endMonthly                                  (Time) |S64 64B ...\n",
      "    timeMonthly_avg_daysSinceStartOfSim               (Time) timedelta64[ns] 8B ...\n",
      "    timeMonthly_avg_icePresent                        (Time, nCells) float32 2MB ...\n",
      "    timeMonthly_avg_iceAreaCategory                   (Time, nCells, nCategories, ONE) float32 9MB ...\n",
      "    ...                                                ...\n",
      "    timeMonthly_avg_snowLiquidMassCell                (Time, nCells, nSnowLayers) float32 9MB ...\n",
      "    timeMonthly_avg_snowDensityCell                   (Time, nCells, nSnowLayers) float32 9MB ...\n",
      "    timeMonthly_avg_snowAlbedoCell                    (Time, nCells) float32 2MB ...\n",
      "    timeMonthly_avg_pondAlbedoCell                    (Time, nCells) float32 2MB ...\n",
      "    timeMonthly_avg_bareIceAlbedoCell                 (Time, nCells) float32 2MB ...\n",
      "    timeMonthly_avg_pondAreaCell                      (Time, nCells) float32 2MB ...\n",
      "Attributes: (12/490)\n",
      "    case:                                                         v3.LR.histo...\n",
      "    source_id:                                                    399d430113\n",
      "    realm:                                                        seaIce\n",
      "    product:                                                      model-output\n",
      "    title:                                                        MPAS-Seaice...\n",
      "    source:                                                       E3SM Sea Ic...\n",
      "    ...                                                           ...\n",
      "    config_AM_timeSeriesStatsCustom_reference_times:              initial_time\n",
      "    config_AM_timeSeriesStatsCustom_duration_intervals:           repeat_inte...\n",
      "    config_AM_timeSeriesStatsCustom_repeat_intervals:             reset_interval\n",
      "    config_AM_timeSeriesStatsCustom_reset_intervals:              00-00-07_00...\n",
      "    config_AM_timeSeriesStatsCustom_backward_output_offset:       00-00-01_00...\n",
      "    file_id:                                                      yuq5j65on9\n"
     ]
    }
   ],
   "source": [
    "print(ds_monthly)"
   ]
  },
  {
   "cell_type": "code",
   "execution_count": 5,
   "id": "4eaf0acc-a0ef-46be-92f7-67664e5ab77e",
   "metadata": {},
   "outputs": [
    {
     "data": {
      "text/plain": [
       "Data variables:\n",
       "    timeMonthly_counter                               (Time) int32 4B ...\n",
       "    xtime_startMonthly                                (Time) |S64 64B ...\n",
       "    xtime_endMonthly                                  (Time) |S64 64B ...\n",
       "    timeMonthly_avg_daysSinceStartOfSim               (Time) timedelta64[ns] 8B ...\n",
       "    timeMonthly_avg_icePresent                        (Time, nCells) float32 2MB ...\n",
       "    timeMonthly_avg_iceAreaCategory                   (Time, nCells, nCategories, ONE) float32 9MB ...\n",
       "    timeMonthly_avg_iceVolumeCategory                 (Time, nCells, nCategories, ONE) float32 9MB ...\n",
       "    timeMonthly_avg_snowVolumeCategory                (Time, nCells, nCategories, ONE) float32 9MB ...\n",
       "    timeMonthly_avg_iceAreaCell                       (Time, nCells) float32 2MB ...\n",
       "    timeMonthly_avg_iceVolumeCell                     (Time, nCells) float32 2MB ...\n",
       "    timeMonthly_avg_snowVolumeCell                    (Time, nCells) float32 2MB ...\n",
       "    timeMonthly_avg_surfaceTemperatureCell            (Time, nCells) float32 2MB ...\n",
       "    timeMonthly_avg_uVelocityGeo                      (Time, nVertices) float32 4MB ...\n",
       "    timeMonthly_avg_vVelocityGeo                      (Time, nVertices) float32 4MB ...\n",
       "    timeMonthly_avg_shortwaveDown                     (Time, nCells) float32 2MB ...\n",
       "    timeMonthly_avg_longwaveDown                      (Time, nCells) float32 2MB ...\n",
       "    timeMonthly_avg_seaSurfaceTemperature             (Time, nCells) float32 2MB ...\n",
       "    timeMonthly_avg_seaSurfaceSalinity                (Time, nCells) float32 2MB ...\n",
       "    timeMonthly_avg_uOceanVelocityVertexGeo           (Time, nVertices) float32 4MB ...\n",
       "    timeMonthly_avg_vOceanVelocityVertexGeo           (Time, nVertices) float32 4MB ...\n",
       "    timeMonthly_avg_freezingMeltingPotential          (Time, nCells) float32 2MB ...\n",
       "    timeMonthly_avg_shortwaveScalingFactor            (Time, nCells) float32 2MB ...\n",
       "    timeMonthly_avg_airTemperature                    (Time, nCells) float32 2MB ...\n",
       "    timeMonthly_avg_congelation                       (Time, nCells) float32 2MB ...\n",
       "    timeMonthly_avg_frazilFormation                   (Time, nCells) float32 2MB ...\n",
       "    timeMonthly_avg_snowiceFormation                  (Time, nCells) float32 2MB ...\n",
       "    timeMonthly_avg_snowMelt                          (Time, nCells) float32 2MB ...\n",
       "    timeMonthly_avg_surfaceIceMelt                    (Time, nCells) float32 2MB ...\n",
       "    timeMonthly_avg_basalIceMelt                      (Time, nCells) float32 2MB ...\n",
       "    timeMonthly_avg_lateralIceMelt                    (Time, nCells) float32 2MB ...\n",
       "    timeMonthly_avg_airStressVertexUGeo               (Time, nVertices) float32 4MB ...\n",
       "    timeMonthly_avg_airStressVertexVGeo               (Time, nVertices) float32 4MB ...\n",
       "    timeMonthly_avg_icePressure                       (Time, nCells) float32 2MB ...\n",
       "    timeMonthly_avg_divergence                        (Time, nCells) float32 2MB ...\n",
       "    timeMonthly_avg_shear                             (Time, nCells) float32 2MB ...\n",
       "    timeMonthly_avg_principalStress1Var               (Time, nCells, maxEdges) float32 11MB ...\n",
       "    timeMonthly_avg_principalStress2Var               (Time, nCells, maxEdges) float32 11MB ...\n",
       "    timeMonthly_avg_iceVolumeTendencyThermodynamics   (Time, nCells) float32 2MB ...\n",
       "    timeMonthly_avg_iceVolumeTendencyTransport        (Time, nCells) float32 2MB ...\n",
       "    timeMonthly_avg_iceAreaTendencyThermodynamics     (Time, nCells) float32 2MB ...\n",
       "    timeMonthly_avg_iceAreaTendencyTransport          (Time, nCells) float32 2MB ...\n",
       "    timeMonthly_avg_ridgedIceAreaAverage              (Time, nCells) float32 2MB ...\n",
       "    timeMonthly_avg_ridgedIceVolumeAverage            (Time, nCells) float32 2MB ...\n",
       "    timeMonthly_avg_bulkSalinity                      (Time, nCells) float32 2MB ...\n",
       "    timeMonthly_avg_broadbandAlbedo                   (Time, nCells) float32 2MB ...\n",
       "    timeMonthly_avg_absorbedShortwaveFluxInitialArea  (Time, nCells) float32 2MB ...\n",
       "    timeMonthly_avg_latentHeatFluxInitialArea         (Time, nCells) float32 2MB ...\n",
       "    timeMonthly_avg_sensibleHeatFluxInitialArea       (Time, nCells) float32 2MB ...\n",
       "    timeMonthly_avg_longwaveUpInitialArea             (Time, nCells) float32 2MB ...\n",
       "    timeMonthly_avg_evaporativeWaterFluxInitialArea   (Time, nCells) float32 2MB ...\n",
       "    timeMonthly_avg_meltPondAreaFinalArea             (Time, nCells) float32 2MB ...\n",
       "    timeMonthly_avg_meltPondDepthFinalArea            (Time, nCells) float32 2MB ...\n",
       "    timeMonthly_avg_meltPondLidThicknessFinalArea     (Time, nCells) float32 2MB ...\n",
       "    timeMonthly_avg_oceanHeatFlux                     (Time, nCells) float32 2MB ...\n",
       "    timeMonthly_avg_oceanShortwaveFlux                (Time, nCells) float32 2MB ...\n",
       "    timeMonthly_avg_oceanFreshWaterFlux               (Time, nCells) float32 2MB ...\n",
       "    timeMonthly_avg_oceanSaltFlux                     (Time, nCells) float32 2MB ...\n",
       "    timeMonthly_avg_uAirVelocity                      (Time, nCells) float32 2MB ...\n",
       "    timeMonthly_avg_vAirVelocity                      (Time, nCells) float32 2MB ...\n",
       "    timeMonthly_avg_snowGrainRadiusCell               (Time, nCells, nSnowLayers) float32 9MB ...\n",
       "    timeMonthly_avg_snowIceMassCell                   (Time, nCells, nSnowLayers) float32 9MB ...\n",
       "    timeMonthly_avg_snowLiquidMassCell                (Time, nCells, nSnowLayers) float32 9MB ...\n",
       "    timeMonthly_avg_snowDensityCell                   (Time, nCells, nSnowLayers) float32 9MB ...\n",
       "    timeMonthly_avg_snowAlbedoCell                    (Time, nCells) float32 2MB ...\n",
       "    timeMonthly_avg_pondAlbedoCell                    (Time, nCells) float32 2MB ...\n",
       "    timeMonthly_avg_bareIceAlbedoCell                 (Time, nCells) float32 2MB ...\n",
       "    timeMonthly_avg_pondAreaCell                      (Time, nCells) float32 2MB ..."
      ]
     },
     "execution_count": 5,
     "metadata": {},
     "output_type": "execute_result"
    }
   ],
   "source": [
    "ds_monthly.data_vars"
   ]
  },
  {
   "cell_type": "code",
   "execution_count": 6,
   "id": "14025bcc-5ad4-4b68-af1f-4d1f48054b04",
   "metadata": {},
   "outputs": [
    {
     "name": "stdout",
     "output_type": "stream",
     "text": [
      "1\n"
     ]
    }
   ],
   "source": [
    "monthly_counter = ds_monthly[\"timeMonthly_counter\"].shape[0]\n",
    "print(monthly_counter)"
   ]
  },
  {
   "cell_type": "code",
   "execution_count": 7,
   "id": "8b5b2bf4-0cd2-4e2e-a2f9-8215e5213cbc",
   "metadata": {},
   "outputs": [
    {
     "name": "stdout",
     "output_type": "stream",
     "text": [
      "[b'2024-11-01_00:30:00']\n"
     ]
    }
   ],
   "source": [
    "print(ds_monthly[\"xtime_startMonthly\"].values)"
   ]
  },
  {
   "cell_type": "code",
   "execution_count": 8,
   "id": "8344733b-212f-4832-b018-44f770e2f055",
   "metadata": {},
   "outputs": [
    {
     "name": "stdout",
     "output_type": "stream",
     "text": [
      "Fraction of grid cell covered in sea ice\n",
      "Shape of ice area variable: (1, 465044)\n"
     ]
    }
   ],
   "source": [
    "ice_area_monthly = ds_monthly[\"timeMonthly_avg_iceAreaCell\"]\n",
    "print(ds_monthly['timeMonthly_avg_iceAreaCell'].attrs['long_name'])\n",
    "print(f\"Shape of ice area variable: {ice_area_monthly.shape}\")"
   ]
  },
  {
   "cell_type": "code",
   "execution_count": 9,
   "id": "78bb9004-bfde-4cfb-bd49-5c6120b3865a",
   "metadata": {},
   "outputs": [
    {
     "name": "stdout",
     "output_type": "stream",
     "text": [
      "Fraction of grid cell covered in sea ice\n",
      "Fraction of grid cell covered in sea ice per ice thickness category\n"
     ]
    }
   ],
   "source": [
    "print(ds_monthly['timeMonthly_avg_iceAreaCell'].attrs['long_name'])\n",
    "print(ds_monthly['timeMonthly_avg_iceAreaCategory'].attrs['long_name'])"
   ]
  },
  {
   "cell_type": "code",
   "execution_count": null,
   "id": "a7ded9b8-207b-4ee9-8c4c-ab5c8e3fdf23",
   "metadata": {},
   "outputs": [],
   "source": [
    "ds_monthly.close()"
   ]
  },
  {
   "cell_type": "markdown",
   "id": "126361d9-6174-4e02-a825-d6ba2b8c645d",
   "metadata": {},
   "source": [
    "# Example of a Daily netCDF file with xarray"
   ]
  },
  {
   "cell_type": "code",
   "execution_count": 2,
   "id": "d7003130-86f0-4e1f-a9ef-1035f353212f",
   "metadata": {},
   "outputs": [],
   "source": [
    "# ds = xr.open_dataset(\"train/v3.LR.DTESTM.pm-cpu-10yr.mpassi.hist.am.timeSeriesStatsDaily.0010-01-01.nc\")\n",
    "\n",
    "from perlmutterpath import * # has the path to the data on Perlmutter\n",
    "ds = xr.open_dataset(full_data_dir_sample, decode_times=True)"
   ]
  },
  {
   "cell_type": "code",
   "execution_count": 3,
   "id": "5c22f194-3934-4d4e-9f6d-21be0853ad67",
   "metadata": {},
   "outputs": [
    {
     "data": {
      "text/plain": [
       "Data variables:\n",
       "    timeDaily_counter             (Time) int32 124B ...\n",
       "    xtime_startDaily              (Time) |S64 2kB ...\n",
       "    xtime_endDaily                (Time) |S64 2kB ...\n",
       "    timeDaily_avg_iceAreaCell     (Time, nCells) float32 58MB ...\n",
       "    timeDaily_avg_iceVolumeCell   (Time, nCells) float32 58MB ...\n",
       "    timeDaily_avg_snowVolumeCell  (Time, nCells) float32 58MB ...\n",
       "    timeDaily_avg_uVelocityGeo    (Time, nVertices) float32 117MB ...\n",
       "    timeDaily_avg_vVelocityGeo    (Time, nVertices) float32 117MB ..."
      ]
     },
     "execution_count": 3,
     "metadata": {},
     "output_type": "execute_result"
    }
   ],
   "source": [
    "ds.data_vars"
   ]
  },
  {
   "cell_type": "code",
   "execution_count": 4,
   "id": "4f0bbd8c-d3d2-4914-a3b4-0d25908b47dc",
   "metadata": {},
   "outputs": [
    {
     "name": "stdout",
     "output_type": "stream",
     "text": [
      "31\n"
     ]
    }
   ],
   "source": [
    "day_counter = ds[\"timeDaily_counter\"].shape[0]\n",
    "print(day_counter)"
   ]
  },
  {
   "cell_type": "code",
   "execution_count": 5,
   "id": "52cfc436-a18f-4f40-b547-fb3f46a88e25",
   "metadata": {},
   "outputs": [
    {
     "name": "stdout",
     "output_type": "stream",
     "text": [
      "<xarray.DataArray 'xtime_startDaily' (Time: 31)> Size: 2kB\n",
      "[31 values with dtype=|S64]\n",
      "Dimensions without coordinates: Time\n"
     ]
    }
   ],
   "source": [
    "print(ds[\"xtime_startDaily\"])"
   ]
  },
  {
   "cell_type": "code",
   "execution_count": 6,
   "id": "718751ba-8e8c-4fd4-8d75-3586b171c4a6",
   "metadata": {},
   "outputs": [
    {
     "name": "stdout",
     "output_type": "stream",
     "text": [
      "[b'2024-12-01_00:00:00' b'2024-12-02_00:00:00' b'2024-12-03_00:00:00'\n",
      " b'2024-12-04_00:00:00' b'2024-12-05_00:00:00' b'2024-12-06_00:00:00'\n",
      " b'2024-12-07_00:00:00' b'2024-12-08_00:00:00' b'2024-12-09_00:00:00'\n",
      " b'2024-12-10_00:00:00' b'2024-12-11_00:00:00' b'2024-12-12_00:00:00'\n",
      " b'2024-12-13_00:00:00' b'2024-12-14_00:00:00' b'2024-12-15_00:00:00'\n",
      " b'2024-12-16_00:00:00' b'2024-12-17_00:00:00' b'2024-12-18_00:00:00'\n",
      " b'2024-12-19_00:00:00' b'2024-12-20_00:00:00' b'2024-12-21_00:00:00'\n",
      " b'2024-12-22_00:00:00' b'2024-12-23_00:00:00' b'2024-12-24_00:00:00'\n",
      " b'2024-12-25_00:00:00' b'2024-12-26_00:00:00' b'2024-12-27_00:00:00'\n",
      " b'2024-12-28_00:00:00' b'2024-12-29_00:00:00' b'2024-12-30_00:00:00'\n",
      " b'2024-12-31_00:00:00']\n"
     ]
    }
   ],
   "source": [
    "print(ds[\"xtime_startDaily\"].values)"
   ]
  },
  {
   "cell_type": "code",
   "execution_count": 7,
   "id": "55f802b2-ee8b-4ba2-8396-70bff6686a7f",
   "metadata": {},
   "outputs": [
    {
     "name": "stdout",
     "output_type": "stream",
     "text": [
      "Fraction of grid cell covered in sea ice\n",
      "Shape of ice area variable: (31, 465044)\n"
     ]
    }
   ],
   "source": [
    "ice_area = ds[\"timeDaily_avg_iceAreaCell\"]\n",
    "print(ds['timeDaily_avg_iceAreaCell'].attrs['long_name'])\n",
    "print(f\"Shape of ice area variable: {ice_area.shape}\")"
   ]
  },
  {
   "cell_type": "code",
   "execution_count": 8,
   "id": "159e14a6-1576-4180-a88b-b35a4f8b9fe0",
   "metadata": {},
   "outputs": [
    {
     "name": "stdout",
     "output_type": "stream",
     "text": [
      "Ice volume per unit area of grid cell\n",
      "Shape of ice area variable: (31, 465044)\n"
     ]
    }
   ],
   "source": [
    "ice_volume = ds[\"timeDaily_avg_iceVolumeCell\"]\n",
    "print(ds['timeDaily_avg_iceVolumeCell'].attrs['long_name'])\n",
    "print(f\"Shape of ice area variable: {ice_volume.shape}\")"
   ]
  },
  {
   "cell_type": "code",
   "execution_count": 9,
   "id": "349f44e0-39a7-4140-851d-d3b5b88034da",
   "metadata": {},
   "outputs": [
    {
     "name": "stdout",
     "output_type": "stream",
     "text": [
      "Coordinates:\n",
      "    *empty*\n",
      "FrozenMappingWarningOnValuesAccess({'Time': 31, 'nCells': 465044, 'nVertices': 942873})\n"
     ]
    }
   ],
   "source": [
    "print(ds.coords)\n",
    "print(ds.dims)"
   ]
  },
  {
   "cell_type": "code",
   "execution_count": 10,
   "id": "797273f8-b225-45e3-a51d-b18dd06b0162",
   "metadata": {},
   "outputs": [
    {
     "name": "stdout",
     "output_type": "stream",
     "text": [
      "<xarray.Dataset> Size: 407MB\n",
      "Dimensions:                       (Time: 31, nCells: 465044, nVertices: 942873)\n",
      "Dimensions without coordinates: Time, nCells, nVertices\n",
      "Data variables:\n",
      "    timeDaily_counter             (Time) int32 124B ...\n",
      "    xtime_startDaily              (Time) |S64 2kB b'2024-12-01_00:00:00' ... ...\n",
      "    xtime_endDaily                (Time) |S64 2kB ...\n",
      "    timeDaily_avg_iceAreaCell     (Time, nCells) float32 58MB ...\n",
      "    timeDaily_avg_iceVolumeCell   (Time, nCells) float32 58MB ...\n",
      "    timeDaily_avg_snowVolumeCell  (Time, nCells) float32 58MB ...\n",
      "    timeDaily_avg_uVelocityGeo    (Time, nVertices) float32 117MB ...\n",
      "    timeDaily_avg_vVelocityGeo    (Time, nVertices) float32 117MB ...\n",
      "Attributes: (12/490)\n",
      "    case:                                                         v3.LR.histo...\n",
      "    source_id:                                                    399d430113\n",
      "    realm:                                                        seaIce\n",
      "    product:                                                      model-output\n",
      "    title:                                                        MPAS-Seaice...\n",
      "    source:                                                       E3SM Sea Ic...\n",
      "    ...                                                           ...\n",
      "    config_AM_timeSeriesStatsCustom_reference_times:              initial_time\n",
      "    config_AM_timeSeriesStatsCustom_duration_intervals:           repeat_inte...\n",
      "    config_AM_timeSeriesStatsCustom_repeat_intervals:             reset_interval\n",
      "    config_AM_timeSeriesStatsCustom_reset_intervals:              00-00-07_00...\n",
      "    config_AM_timeSeriesStatsCustom_backward_output_offset:       00-00-01_00...\n",
      "    file_id:                                                      w89d6aw0xo\n"
     ]
    }
   ],
   "source": [
    "print(ds)\n",
    "ds.close()"
   ]
  },
  {
   "cell_type": "markdown",
   "id": "d5efca39-de8f-4e40-8257-b7225e63eb8e",
   "metadata": {},
   "source": [
    "# Example of Mesh File"
   ]
  },
  {
   "cell_type": "code",
   "execution_count": 11,
   "id": "559b394a-5b76-412f-bc2b-157a415330f2",
   "metadata": {},
   "outputs": [],
   "source": [
    "mesh = xr.open_dataset(\"NC_FILE_PROCESSING/mpassi.IcoswISC30E3r5.20231120.nc\")"
   ]
  },
  {
   "cell_type": "code",
   "execution_count": 12,
   "id": "55880b5e-98f9-42b6-a9ae-f133f80b7391",
   "metadata": {},
   "outputs": [
    {
     "data": {
      "text/plain": [
       "Data variables:\n",
       "    edgesOnEdge        (nEdges, maxEdges2) int32 68MB ...\n",
       "    weightsOnEdge      (nEdges, maxEdges2) float64 135MB ...\n",
       "    cellsOnEdge        (nEdges, TWO) int32 11MB ...\n",
       "    verticesOnEdge     (nEdges, TWO) int32 11MB ...\n",
       "    angleEdge          (nEdges) float64 11MB ...\n",
       "    dcEdge             (nEdges) float64 11MB ...\n",
       "    dvEdge             (nEdges) float64 11MB ...\n",
       "    indexToEdgeID      (nEdges) int32 6MB ...\n",
       "    latEdge            (nEdges) float64 11MB ...\n",
       "    lonEdge            (nEdges) float64 11MB ...\n",
       "    nEdgesOnEdge       (nEdges) int32 6MB ...\n",
       "    xEdge              (nEdges) float64 11MB ...\n",
       "    yEdge              (nEdges) float64 11MB ...\n",
       "    zEdge              (nEdges) float64 11MB ...\n",
       "    fEdge              (nEdges) float64 11MB ...\n",
       "    cellsOnVertex      (nVertices, vertexDegree) int32 11MB ...\n",
       "    edgesOnVertex      (nVertices, vertexDegree) int32 11MB ...\n",
       "    kiteAreasOnVertex  (nVertices, vertexDegree) float64 23MB ...\n",
       "    areaTriangle       (nVertices) float64 8MB ...\n",
       "    indexToVertexID    (nVertices) int32 4MB ...\n",
       "    latVertex          (nVertices) float64 8MB ...\n",
       "    lonVertex          (nVertices) float64 8MB ...\n",
       "    xVertex            (nVertices) float64 8MB ...\n",
       "    yVertex            (nVertices) float64 8MB ...\n",
       "    zVertex            (nVertices) float64 8MB ...\n",
       "    fVertex            (nVertices) float64 8MB ...\n",
       "    cellsOnCell        (nCells, maxEdges) int32 11MB ...\n",
       "    edgesOnCell        (nCells, maxEdges) int32 11MB ...\n",
       "    verticesOnCell     (nCells, maxEdges) int32 11MB ...\n",
       "    areaCell           (nCells) float64 4MB ...\n",
       "    indexToCellID      (nCells) int32 2MB ...\n",
       "    latCell            (nCells) float64 4MB ...\n",
       "    lonCell            (nCells) float64 4MB ...\n",
       "    meshDensity        (nCells) float64 4MB ...\n",
       "    nEdgesOnCell       (nCells) int32 2MB ...\n",
       "    xCell              (nCells) float64 4MB ...\n",
       "    yCell              (nCells) float64 4MB ...\n",
       "    zCell              (nCells) float64 4MB ...\n",
       "    fCell              (nCells) float64 4MB ...\n",
       "    landIceMask        (Time, nCells) int32 2MB ..."
      ]
     },
     "execution_count": 12,
     "metadata": {},
     "output_type": "execute_result"
    }
   ],
   "source": [
    "mesh.data_vars"
   ]
  },
  {
   "cell_type": "code",
   "execution_count": 13,
   "id": "df1c84f0-ec02-446e-8782-78f28682ff90",
   "metadata": {},
   "outputs": [
    {
     "name": "stdout",
     "output_type": "stream",
     "text": [
      "Latitude location of cell centers in radians.\n",
      "Longitude location of cell centers in radians.\n"
     ]
    }
   ],
   "source": [
    "print(mesh[\"latCell\"].attrs['long_name'])\n",
    "print(mesh[\"lonCell\"].attrs['long_name'])"
   ]
  },
  {
   "cell_type": "code",
   "execution_count": 14,
   "id": "8d4414a6-af9a-4dcf-bb7f-6ce21a3bb9c8",
   "metadata": {},
   "outputs": [
    {
     "name": "stdout",
     "output_type": "stream",
     "text": [
      "List of cells that neighbor each cell.\n",
      "[[     5      4      0      0      0      0]\n",
      " [    12     11      9      8      0      3]\n",
      " [     4     13     12      2      0      0]\n",
      " ...\n",
      " [465043      0 465040 465041      0      0]\n",
      " [     0 465042      0 465044      0      0]\n",
      " [     0      0      0      0 465043      0]]\n"
     ]
    }
   ],
   "source": [
    "cellsOnCell = mesh[\"cellsOnCell\"].values\n",
    "print(mesh[\"cellsOnCell\"].attrs['long_name'])\n",
    "print(mesh[\"cellsOnCell\"].values)"
   ]
  },
  {
   "cell_type": "code",
   "execution_count": 15,
   "id": "19f66588-56be-4de9-b8ec-bc2cd47068ca",
   "metadata": {},
   "outputs": [
    {
     "name": "stdout",
     "output_type": "stream",
     "text": [
      "6\n"
     ]
    }
   ],
   "source": [
    "print(cellsOnCell.shape[1])"
   ]
  },
  {
   "cell_type": "code",
   "execution_count": 16,
   "id": "68405a1a-08ac-47d3-98c5-cf4e14df4635",
   "metadata": {},
   "outputs": [
    {
     "name": "stdout",
     "output_type": "stream",
     "text": [
      "465044\n",
      "0\n"
     ]
    }
   ],
   "source": [
    "print(mesh[\"cellsOnCell\"].max().values)\n",
    "print(mesh[\"cellsOnCell\"].min().values)"
   ]
  },
  {
   "cell_type": "code",
   "execution_count": 28,
   "id": "a305baa0-6a7a-46f0-835b-183948ad1efe",
   "metadata": {},
   "outputs": [
    {
     "name": "stdout",
     "output_type": "stream",
     "text": [
      "Area of each cell in the primary grid.\n",
      "[7.23558958e+08 7.25959862e+08 7.24416211e+08 ... 7.85442411e+08\n",
      " 7.85841763e+08 7.86602452e+08]\n",
      "Units of area: m^2\n"
     ]
    }
   ],
   "source": [
    "cellAreas = mesh[\"areaCell\"].values\n",
    "print(mesh[\"areaCell\"].attrs['long_name'])\n",
    "print(mesh[\"areaCell\"].values)\n",
    "\n",
    "cellAreas_units = mesh['areaCell'].attrs.get('units')\n",
    "print(f\"Units of area: {cellAreas_units}\")"
   ]
  },
  {
   "cell_type": "code",
   "execution_count": 32,
   "id": "8f047994-6591-4fe6-902c-c9580e5d1288",
   "metadata": {},
   "outputs": [
    {
     "name": "stdout",
     "output_type": "stream",
     "text": [
      "(465044,)\n",
      "(465044,)\n",
      "(465044,)\n",
      "42069840.0\n"
     ]
    }
   ],
   "source": [
    "import numpy as np\n",
    "\n",
    "latCell = np.degrees(mesh[\"latCell\"].values)\n",
    "latitude_threshold = 40\n",
    "\n",
    "print(latCell.shape)\n",
    "\n",
    "mask = latCell >= latitude_threshold\n",
    "print(mask.shape)\n",
    "print(cellAreas.shape)\n",
    "\n",
    "masked_cellAreas = cellAreas[mask]\n",
    "\n",
    "square_kilometers_total = sum(masked_cellAreas) // 1e+6 # meters square converted to kilometers square\n",
    "\n",
    "print(square_kilometers_total)"
   ]
  },
  {
   "cell_type": "code",
   "execution_count": null,
   "id": "b84bb12e-c125-439f-8ab6-2f331f77f4d2",
   "metadata": {},
   "outputs": [],
   "source": [
    "#np.save('cellsOnCell.npy', cellsOnCell) \n",
    "#np.save('cellAreas.npy', cellAreas) "
   ]
  },
  {
   "cell_type": "code",
   "execution_count": null,
   "id": "5403e922-8360-4353-b28f-dcbe591ec20a",
   "metadata": {},
   "outputs": [],
   "source": [
    "#landIceMask = mesh[\"landIceMask\"].values\n",
    "#np.save('landIceMask.npy', landIceMask)"
   ]
  },
  {
   "cell_type": "code",
   "execution_count": null,
   "id": "6b6af533-ab21-4a1e-bef4-1f5a06d9c607",
   "metadata": {},
   "outputs": [],
   "source": [
    "print(mesh.coords)\n",
    "print(mesh.dims)"
   ]
  },
  {
   "cell_type": "code",
   "execution_count": null,
   "id": "01046b26-900a-42e5-8389-42b2cea0b0b8",
   "metadata": {},
   "outputs": [],
   "source": [
    "print(mesh)"
   ]
  },
  {
   "cell_type": "code",
   "execution_count": null,
   "id": "42b25da6-8719-4333-a029-351da19d70f0",
   "metadata": {},
   "outputs": [],
   "source": [
    "mesh.close()"
   ]
  }
 ],
 "metadata": {
  "kernelspec": {
   "display_name": "SIC SIE Kernel",
   "language": "python",
   "name": "sic_sie_env"
  },
  "language_info": {
   "codemirror_mode": {
    "name": "ipython",
    "version": 3
   },
   "file_extension": ".py",
   "mimetype": "text/x-python",
   "name": "python",
   "nbconvert_exporter": "python",
   "pygments_lexer": "ipython3",
   "version": "3.10.18"
  }
 },
 "nbformat": 4,
 "nbformat_minor": 5
}
