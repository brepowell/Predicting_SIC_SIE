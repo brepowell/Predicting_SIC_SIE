{
 "cells": [
  {
   "cell_type": "code",
   "execution_count": 1,
   "id": "d0bb34dd-af6f-493d-91da-cccde0ddcc0b",
   "metadata": {},
   "outputs": [
    {
     "name": "stdout",
     "output_type": "stream",
     "text": [
      "Xarray version 2025.6.1\n"
     ]
    }
   ],
   "source": [
    "import xarray as xr\n",
    "print('Xarray version', xr.__version__)"
   ]
  },
  {
   "cell_type": "markdown",
   "id": "126361d9-6174-4e02-a825-d6ba2b8c645d",
   "metadata": {},
   "source": [
    "# Example of one netCDF file with xarray"
   ]
  },
  {
   "cell_type": "code",
   "execution_count": 2,
   "id": "d7003130-86f0-4e1f-a9ef-1035f353212f",
   "metadata": {},
   "outputs": [],
   "source": [
    "# ds = xr.open_dataset(\"train/v3.LR.DTESTM.pm-cpu-10yr.mpassi.hist.am.timeSeriesStatsDaily.0010-01-01.nc\")\n",
    "\n",
    "from perlmutterpath import * # has the path to the data on Perlmutter\n",
    "ds = xr.open_dataset(full_data_dir_sample, decode_times=True)"
   ]
  },
  {
   "cell_type": "code",
   "execution_count": 3,
   "id": "5c22f194-3934-4d4e-9f6d-21be0853ad67",
   "metadata": {},
   "outputs": [
    {
     "data": {
      "text/plain": [
       "Data variables:\n",
       "    timeDaily_counter             (Time) int32 124B ...\n",
       "    xtime_startDaily              (Time) |S64 2kB ...\n",
       "    xtime_endDaily                (Time) |S64 2kB ...\n",
       "    timeDaily_avg_iceAreaCell     (Time, nCells) float32 58MB ...\n",
       "    timeDaily_avg_iceVolumeCell   (Time, nCells) float32 58MB ...\n",
       "    timeDaily_avg_snowVolumeCell  (Time, nCells) float32 58MB ...\n",
       "    timeDaily_avg_uVelocityGeo    (Time, nVertices) float32 117MB ...\n",
       "    timeDaily_avg_vVelocityGeo    (Time, nVertices) float32 117MB ..."
      ]
     },
     "execution_count": 3,
     "metadata": {},
     "output_type": "execute_result"
    }
   ],
   "source": [
    "ds.data_vars"
   ]
  },
  {
   "cell_type": "code",
   "execution_count": 4,
   "id": "4f0bbd8c-d3d2-4914-a3b4-0d25908b47dc",
   "metadata": {},
   "outputs": [
    {
     "name": "stdout",
     "output_type": "stream",
     "text": [
      "31\n"
     ]
    }
   ],
   "source": [
    "day_counter = ds[\"timeDaily_counter\"].shape[0]\n",
    "print(day_counter)"
   ]
  },
  {
   "cell_type": "code",
   "execution_count": 5,
   "id": "52cfc436-a18f-4f40-b547-fb3f46a88e25",
   "metadata": {},
   "outputs": [
    {
     "name": "stdout",
     "output_type": "stream",
     "text": [
      "<xarray.DataArray 'xtime_startDaily' (Time: 31)> Size: 2kB\n",
      "[31 values with dtype=|S64]\n",
      "Dimensions without coordinates: Time\n"
     ]
    }
   ],
   "source": [
    "print(ds[\"xtime_startDaily\"])"
   ]
  },
  {
   "cell_type": "code",
   "execution_count": 6,
   "id": "718751ba-8e8c-4fd4-8d75-3586b171c4a6",
   "metadata": {},
   "outputs": [
    {
     "name": "stdout",
     "output_type": "stream",
     "text": [
      "[b'2024-12-01_00:00:00' b'2024-12-02_00:00:00' b'2024-12-03_00:00:00'\n",
      " b'2024-12-04_00:00:00' b'2024-12-05_00:00:00' b'2024-12-06_00:00:00'\n",
      " b'2024-12-07_00:00:00' b'2024-12-08_00:00:00' b'2024-12-09_00:00:00'\n",
      " b'2024-12-10_00:00:00' b'2024-12-11_00:00:00' b'2024-12-12_00:00:00'\n",
      " b'2024-12-13_00:00:00' b'2024-12-14_00:00:00' b'2024-12-15_00:00:00'\n",
      " b'2024-12-16_00:00:00' b'2024-12-17_00:00:00' b'2024-12-18_00:00:00'\n",
      " b'2024-12-19_00:00:00' b'2024-12-20_00:00:00' b'2024-12-21_00:00:00'\n",
      " b'2024-12-22_00:00:00' b'2024-12-23_00:00:00' b'2024-12-24_00:00:00'\n",
      " b'2024-12-25_00:00:00' b'2024-12-26_00:00:00' b'2024-12-27_00:00:00'\n",
      " b'2024-12-28_00:00:00' b'2024-12-29_00:00:00' b'2024-12-30_00:00:00'\n",
      " b'2024-12-31_00:00:00']\n"
     ]
    }
   ],
   "source": [
    "print(ds[\"xtime_startDaily\"].values)"
   ]
  },
  {
   "cell_type": "code",
   "execution_count": 7,
   "id": "55f802b2-ee8b-4ba2-8396-70bff6686a7f",
   "metadata": {},
   "outputs": [
    {
     "name": "stdout",
     "output_type": "stream",
     "text": [
      "Fraction of grid cell covered in sea ice\n",
      "Shape of ice area variable: (31, 465044)\n"
     ]
    }
   ],
   "source": [
    "ice_area = ds[\"timeDaily_avg_iceAreaCell\"]\n",
    "print(ds['timeDaily_avg_iceAreaCell'].attrs['long_name'])\n",
    "print(f\"Shape of ice area variable: {ice_area.shape}\")"
   ]
  },
  {
   "cell_type": "code",
   "execution_count": 8,
   "id": "159e14a6-1576-4180-a88b-b35a4f8b9fe0",
   "metadata": {},
   "outputs": [
    {
     "name": "stdout",
     "output_type": "stream",
     "text": [
      "Ice volume per unit area of grid cell\n",
      "Shape of ice area variable: (31, 465044)\n"
     ]
    }
   ],
   "source": [
    "ice_volume = ds[\"timeDaily_avg_iceVolumeCell\"]\n",
    "print(ds['timeDaily_avg_iceVolumeCell'].attrs['long_name'])\n",
    "print(f\"Shape of ice area variable: {ice_volume.shape}\")"
   ]
  },
  {
   "cell_type": "code",
   "execution_count": 9,
   "id": "349f44e0-39a7-4140-851d-d3b5b88034da",
   "metadata": {},
   "outputs": [
    {
     "name": "stdout",
     "output_type": "stream",
     "text": [
      "Coordinates:\n",
      "    *empty*\n",
      "FrozenMappingWarningOnValuesAccess({'Time': 31, 'nCells': 465044, 'nVertices': 942873})\n"
     ]
    }
   ],
   "source": [
    "print(ds.coords)\n",
    "print(ds.dims)"
   ]
  },
  {
   "cell_type": "code",
   "execution_count": 10,
   "id": "797273f8-b225-45e3-a51d-b18dd06b0162",
   "metadata": {},
   "outputs": [
    {
     "name": "stdout",
     "output_type": "stream",
     "text": [
      "<xarray.Dataset> Size: 407MB\n",
      "Dimensions:                       (Time: 31, nCells: 465044, nVertices: 942873)\n",
      "Dimensions without coordinates: Time, nCells, nVertices\n",
      "Data variables:\n",
      "    timeDaily_counter             (Time) int32 124B ...\n",
      "    xtime_startDaily              (Time) |S64 2kB b'2024-12-01_00:00:00' ... ...\n",
      "    xtime_endDaily                (Time) |S64 2kB ...\n",
      "    timeDaily_avg_iceAreaCell     (Time, nCells) float32 58MB ...\n",
      "    timeDaily_avg_iceVolumeCell   (Time, nCells) float32 58MB ...\n",
      "    timeDaily_avg_snowVolumeCell  (Time, nCells) float32 58MB ...\n",
      "    timeDaily_avg_uVelocityGeo    (Time, nVertices) float32 117MB ...\n",
      "    timeDaily_avg_vVelocityGeo    (Time, nVertices) float32 117MB ...\n",
      "Attributes: (12/490)\n",
      "    case:                                                         v3.LR.histo...\n",
      "    source_id:                                                    399d430113\n",
      "    realm:                                                        seaIce\n",
      "    product:                                                      model-output\n",
      "    title:                                                        MPAS-Seaice...\n",
      "    source:                                                       E3SM Sea Ic...\n",
      "    ...                                                           ...\n",
      "    config_AM_timeSeriesStatsCustom_reference_times:              initial_time\n",
      "    config_AM_timeSeriesStatsCustom_duration_intervals:           repeat_inte...\n",
      "    config_AM_timeSeriesStatsCustom_repeat_intervals:             reset_interval\n",
      "    config_AM_timeSeriesStatsCustom_reset_intervals:              00-00-07_00...\n",
      "    config_AM_timeSeriesStatsCustom_backward_output_offset:       00-00-01_00...\n",
      "    file_id:                                                      w89d6aw0xo\n"
     ]
    }
   ],
   "source": [
    "print(ds)\n",
    "ds.close()"
   ]
  },
  {
   "cell_type": "markdown",
   "id": "d5efca39-de8f-4e40-8257-b7225e63eb8e",
   "metadata": {},
   "source": [
    "# Example of Mesh File"
   ]
  },
  {
   "cell_type": "code",
   "execution_count": 11,
   "id": "559b394a-5b76-412f-bc2b-157a415330f2",
   "metadata": {},
   "outputs": [],
   "source": [
    "mesh = xr.open_dataset(\"NC_FILE_PROCESSING/mpassi.IcoswISC30E3r5.20231120.nc\")"
   ]
  },
  {
   "cell_type": "code",
   "execution_count": 12,
   "id": "55880b5e-98f9-42b6-a9ae-f133f80b7391",
   "metadata": {},
   "outputs": [
    {
     "data": {
      "text/plain": [
       "Data variables:\n",
       "    edgesOnEdge        (nEdges, maxEdges2) int32 68MB ...\n",
       "    weightsOnEdge      (nEdges, maxEdges2) float64 135MB ...\n",
       "    cellsOnEdge        (nEdges, TWO) int32 11MB ...\n",
       "    verticesOnEdge     (nEdges, TWO) int32 11MB ...\n",
       "    angleEdge          (nEdges) float64 11MB ...\n",
       "    dcEdge             (nEdges) float64 11MB ...\n",
       "    dvEdge             (nEdges) float64 11MB ...\n",
       "    indexToEdgeID      (nEdges) int32 6MB ...\n",
       "    latEdge            (nEdges) float64 11MB ...\n",
       "    lonEdge            (nEdges) float64 11MB ...\n",
       "    nEdgesOnEdge       (nEdges) int32 6MB ...\n",
       "    xEdge              (nEdges) float64 11MB ...\n",
       "    yEdge              (nEdges) float64 11MB ...\n",
       "    zEdge              (nEdges) float64 11MB ...\n",
       "    fEdge              (nEdges) float64 11MB ...\n",
       "    cellsOnVertex      (nVertices, vertexDegree) int32 11MB ...\n",
       "    edgesOnVertex      (nVertices, vertexDegree) int32 11MB ...\n",
       "    kiteAreasOnVertex  (nVertices, vertexDegree) float64 23MB ...\n",
       "    areaTriangle       (nVertices) float64 8MB ...\n",
       "    indexToVertexID    (nVertices) int32 4MB ...\n",
       "    latVertex          (nVertices) float64 8MB ...\n",
       "    lonVertex          (nVertices) float64 8MB ...\n",
       "    xVertex            (nVertices) float64 8MB ...\n",
       "    yVertex            (nVertices) float64 8MB ...\n",
       "    zVertex            (nVertices) float64 8MB ...\n",
       "    fVertex            (nVertices) float64 8MB ...\n",
       "    cellsOnCell        (nCells, maxEdges) int32 11MB ...\n",
       "    edgesOnCell        (nCells, maxEdges) int32 11MB ...\n",
       "    verticesOnCell     (nCells, maxEdges) int32 11MB ...\n",
       "    areaCell           (nCells) float64 4MB ...\n",
       "    indexToCellID      (nCells) int32 2MB ...\n",
       "    latCell            (nCells) float64 4MB ...\n",
       "    lonCell            (nCells) float64 4MB ...\n",
       "    meshDensity        (nCells) float64 4MB ...\n",
       "    nEdgesOnCell       (nCells) int32 2MB ...\n",
       "    xCell              (nCells) float64 4MB ...\n",
       "    yCell              (nCells) float64 4MB ...\n",
       "    zCell              (nCells) float64 4MB ...\n",
       "    fCell              (nCells) float64 4MB ...\n",
       "    landIceMask        (Time, nCells) int32 2MB ..."
      ]
     },
     "execution_count": 12,
     "metadata": {},
     "output_type": "execute_result"
    }
   ],
   "source": [
    "mesh.data_vars"
   ]
  },
  {
   "cell_type": "code",
   "execution_count": 13,
   "id": "df1c84f0-ec02-446e-8782-78f28682ff90",
   "metadata": {},
   "outputs": [
    {
     "name": "stdout",
     "output_type": "stream",
     "text": [
      "Latitude location of cell centers in radians.\n",
      "Longitude location of cell centers in radians.\n"
     ]
    }
   ],
   "source": [
    "print(mesh[\"latCell\"].attrs['long_name'])\n",
    "print(mesh[\"lonCell\"].attrs['long_name'])"
   ]
  },
  {
   "cell_type": "code",
   "execution_count": 14,
   "id": "8d4414a6-af9a-4dcf-bb7f-6ce21a3bb9c8",
   "metadata": {},
   "outputs": [
    {
     "name": "stdout",
     "output_type": "stream",
     "text": [
      "List of cells that neighbor each cell.\n",
      "[[     5      4      0      0      0      0]\n",
      " [    12     11      9      8      0      3]\n",
      " [     4     13     12      2      0      0]\n",
      " ...\n",
      " [465043      0 465040 465041      0      0]\n",
      " [     0 465042      0 465044      0      0]\n",
      " [     0      0      0      0 465043      0]]\n"
     ]
    }
   ],
   "source": [
    "cellsOnCell = mesh[\"cellsOnCell\"].values\n",
    "print(mesh[\"cellsOnCell\"].attrs['long_name'])\n",
    "print(mesh[\"cellsOnCell\"].values)"
   ]
  },
  {
   "cell_type": "code",
   "execution_count": 15,
   "id": "19f66588-56be-4de9-b8ec-bc2cd47068ca",
   "metadata": {},
   "outputs": [
    {
     "name": "stdout",
     "output_type": "stream",
     "text": [
      "6\n"
     ]
    }
   ],
   "source": [
    "print(cellsOnCell.shape[1])"
   ]
  },
  {
   "cell_type": "code",
   "execution_count": 16,
   "id": "68405a1a-08ac-47d3-98c5-cf4e14df4635",
   "metadata": {},
   "outputs": [
    {
     "name": "stdout",
     "output_type": "stream",
     "text": [
      "465044\n",
      "0\n"
     ]
    }
   ],
   "source": [
    "print(mesh[\"cellsOnCell\"].max().values)\n",
    "print(mesh[\"cellsOnCell\"].min().values)"
   ]
  },
  {
   "cell_type": "code",
   "execution_count": 28,
   "id": "a305baa0-6a7a-46f0-835b-183948ad1efe",
   "metadata": {},
   "outputs": [
    {
     "name": "stdout",
     "output_type": "stream",
     "text": [
      "Area of each cell in the primary grid.\n",
      "[7.23558958e+08 7.25959862e+08 7.24416211e+08 ... 7.85442411e+08\n",
      " 7.85841763e+08 7.86602452e+08]\n",
      "Units of area: m^2\n"
     ]
    }
   ],
   "source": [
    "cellAreas = mesh[\"areaCell\"].values\n",
    "print(mesh[\"areaCell\"].attrs['long_name'])\n",
    "print(mesh[\"areaCell\"].values)\n",
    "\n",
    "cellAreas_units = mesh['areaCell'].attrs.get('units')\n",
    "print(f\"Units of area: {cellAreas_units}\")"
   ]
  },
  {
   "cell_type": "code",
   "execution_count": 32,
   "id": "8f047994-6591-4fe6-902c-c9580e5d1288",
   "metadata": {},
   "outputs": [
    {
     "name": "stdout",
     "output_type": "stream",
     "text": [
      "(465044,)\n",
      "(465044,)\n",
      "(465044,)\n",
      "42069840.0\n"
     ]
    }
   ],
   "source": [
    "import numpy as np\n",
    "\n",
    "latCell = np.degrees(mesh[\"latCell\"].values)\n",
    "latitude_threshold = 40\n",
    "\n",
    "print(latCell.shape)\n",
    "\n",
    "mask = latCell >= latitude_threshold\n",
    "print(mask.shape)\n",
    "print(cellAreas.shape)\n",
    "\n",
    "masked_cellAreas = cellAreas[mask]\n",
    "\n",
    "square_kilometers_total = sum(masked_cellAreas) // 1e+6 # meters square converted to kilometers square\n",
    "\n",
    "print(square_kilometers_total)"
   ]
  },
  {
   "cell_type": "code",
   "execution_count": null,
   "id": "b84bb12e-c125-439f-8ab6-2f331f77f4d2",
   "metadata": {},
   "outputs": [],
   "source": [
    "#np.save('cellsOnCell.npy', cellsOnCell) \n",
    "#np.save('cellAreas.npy', cellAreas) "
   ]
  },
  {
   "cell_type": "code",
   "execution_count": null,
   "id": "5403e922-8360-4353-b28f-dcbe591ec20a",
   "metadata": {},
   "outputs": [],
   "source": [
    "#landIceMask = mesh[\"landIceMask\"].values\n",
    "#np.save('landIceMask.npy', landIceMask)"
   ]
  },
  {
   "cell_type": "code",
   "execution_count": null,
   "id": "6b6af533-ab21-4a1e-bef4-1f5a06d9c607",
   "metadata": {},
   "outputs": [],
   "source": [
    "print(mesh.coords)\n",
    "print(mesh.dims)"
   ]
  },
  {
   "cell_type": "code",
   "execution_count": null,
   "id": "01046b26-900a-42e5-8389-42b2cea0b0b8",
   "metadata": {},
   "outputs": [],
   "source": [
    "print(mesh)"
   ]
  },
  {
   "cell_type": "code",
   "execution_count": null,
   "id": "42b25da6-8719-4333-a029-351da19d70f0",
   "metadata": {},
   "outputs": [],
   "source": [
    "mesh.close()"
   ]
  }
 ],
 "metadata": {
  "kernelspec": {
   "display_name": "SIC SIE Kernel",
   "language": "python",
   "name": "sic_sie_env"
  },
  "language_info": {
   "codemirror_mode": {
    "name": "ipython",
    "version": 3
   },
   "file_extension": ".py",
   "mimetype": "text/x-python",
   "name": "python",
   "nbconvert_exporter": "python",
   "pygments_lexer": "ipython3",
   "version": "3.10.18"
  }
 },
 "nbformat": 4,
 "nbformat_minor": 5
}
